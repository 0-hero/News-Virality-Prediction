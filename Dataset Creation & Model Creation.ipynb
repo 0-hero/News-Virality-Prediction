{
 "cells": [
  {
   "cell_type": "code",
   "execution_count": 2,
   "metadata": {},
   "outputs": [],
   "source": [
    "import numpy as np\n",
    "import pandas as pd\n",
    "import matplotlib.pyplot as plt\n",
    "import seaborn as sns\n",
    "import spacy\n",
    "from spacy.lang.en.stop_words import STOP_WORDS\n",
    "from collections import Counter\n",
    "from textblob import TextBlob\n",
    "from textblob.sentiments import NaiveBayesAnalyzer\n",
    "import nltk\n",
    "import os\n",
    "import json\n",
    "from time import sleep"
   ]
  },
  {
   "cell_type": "code",
   "execution_count": 2,
   "metadata": {},
   "outputs": [],
   "source": [
    "#########################################\n",
    "#### Preparing Dataset for the Model ####\n",
    "#########################################"
   ]
  },
  {
   "cell_type": "code",
   "execution_count": 3,
   "metadata": {},
   "outputs": [],
   "source": [
    "nlp = spacy.load(\"en\")"
   ]
  },
  {
   "cell_type": "code",
   "execution_count": 4,
   "metadata": {},
   "outputs": [],
   "source": [
    "# Calculate attributes\n",
    "\n",
    "def token_word_count(text):\n",
    "    # Return token count, individual word count, list of words\n",
    "    token_list = []\n",
    "    for token in text:\n",
    "        if len(token)>0:\n",
    "            if token.is_punct == False:\n",
    "                token_list.append(token)\n",
    "    return len(token_list), token_list\n",
    "\n",
    "def remove_stop_words(token_list):\n",
    "    filtered_token_list = [token for token in token_list if not token.text.lower() in STOP_WORDS and not token.is_punct]\n",
    "    return len(filtered_token_list),filtered_token_list\n",
    "\n",
    "def unique_words(token_list):\n",
    "    word_list = []\n",
    "    for token in token_list:\n",
    "        word_list.append(token.text.lower())\n",
    "    word_freq = Counter(word_list)\n",
    "    unique_words = [word for (word, freq) in word_freq.items() if freq==1]\n",
    "    return len(unique_words), unique_words\n",
    "\n",
    "def rate_of_words(text):\n",
    "    #Find rate of words in content\n",
    "    token_count, token_list = token_word_count(text)\n",
    "    if token_count != 0:\n",
    "    \n",
    "        non_stop_words_len, non_stop_words_tokens = remove_stop_words(token_list)\n",
    "\n",
    "        # Rate of unique words in content\n",
    "        unique_tokens, unique_token_list = unique_words(token_list)\n",
    "        rate_of_unique_words = unique_tokens/token_count\n",
    "\n",
    "        # Rate of non stop words\n",
    "        rate_of_non_stop_words = (non_stop_words_len)/token_count\n",
    "\n",
    "        # Rate of unique non stop words\n",
    "        unique_non_stop_words, unique_non_stop_words_list = unique_words(non_stop_words_tokens)\n",
    "        rate_of_unique_non_stop_words = (unique_non_stop_words)/unique_tokens \n",
    "        \n",
    "        return rate_of_unique_words,rate_of_non_stop_words,rate_of_unique_non_stop_words\n",
    "    else:\n",
    "        return 'NaN','NaN','NaN'\n",
    "\n",
    "# Input normal text\n",
    "def text_sentiment(text):\n",
    "    sent = TextBlob(text, analyzer = NaiveBayesAnalyzer())\n",
    "    positive = sent.sentiment.p_pos\n",
    "    negative = sent.sentiment.p_neg\n",
    "    return positive, negative\n",
    "    \n",
    "def polarity_subjectivity(text): \n",
    "    return TextBlob(text).sentiment.polarity, TextBlob(text).sentiment.subjectivity"
   ]
  },
  {
   "cell_type": "code",
   "execution_count": 8,
   "metadata": {},
   "outputs": [],
   "source": [
    "# Get list of data files\n",
    "os.chdir(os.getcwd()+'/Data')\n",
    "os.chdir(os.getcwd()+'/1')\n",
    "data_items1 = os.listdir()\n",
    "data_items1.sort()"
   ]
  },
  {
   "cell_type": "code",
   "execution_count": 7,
   "metadata": {},
   "outputs": [
    {
     "name": "stdout",
     "output_type": "stream",
     "text": [
      "{\n",
      "    \"author\": \"Shilpi Sampad&nbsp;\",\n",
      "    \"crawled\": \"2017-02-02T06:57:30.498+02:00\",\n",
      "    \"entities\": {\n",
      "        \"locations\": [\n",
      "            {\n",
      "                \"name\": \"mumbai\",\n",
      "                \"sentiment\": \"none\"\n",
      "            }\n",
      "        ],\n",
      "        \"organizations\": [],\n",
      "        \"persons\": [\n",
      "            {\n",
      "                \"name\": \"shekhar suman\",\n",
      "                \"sentiment\": \"negative\"\n",
      "            },\n",
      "            {\n",
      "                \"name\": \"sanjay dutt\",\n",
      "                \"sentiment\": \"negative\"\n",
      "            },\n",
      "            {\n",
      "                \"name\": \"kishore kumar\",\n",
      "                \"sentiment\": \"none\"\n",
      "            },\n",
      "            {\n",
      "                \"name\": \"aditi rao hydari\",\n",
      "                \"sentiment\": \"none\"\n",
      "            },\n",
      "            {\n",
      "                \"name\": \"shekhar\",\n",
      "                \"sentiment\": \"none\"\n",
      "            },\n",
      "            {\n",
      "                \"name\": \"adhyayan\",\n",
      "                \"sentiment\": \"none\"\n",
      "            },\n",
      "            {\n",
      "                \"name\": \"bhoomi\",\n",
      "                \"sentiment\": \"none\"\n",
      "            },\n",
      "            {\n",
      "                \"name\": \"sanjay\",\n",
      "                \"sentiment\": \"none\"\n",
      "            },\n",
      "            {\n",
      "                \"name\": \"manna dey\",\n",
      "                \"sentiment\": \"none\"\n",
      "            },\n",
      "            {\n",
      "                \"name\": \"devendra fadnavis\",\n",
      "                \"sentiment\": \"none\"\n",
      "            },\n",
      "            {\n",
      "                \"name\": \"mukesh\",\n",
      "                \"sentiment\": \"none\"\n",
      "            },\n",
      "            {\n",
      "                \"name\": \"mohammed rafi\",\n",
      "                \"sentiment\": \"none\"\n",
      "            }\n",
      "        ]\n",
      "    },\n",
      "    \"external_links\": [],\n",
      "    \"highlightText\": \"\",\n",
      "    \"highlightTitle\": \"\",\n",
      "    \"language\": \"english\",\n",
      "    \"locations\": [],\n",
      "    \"ord_in_thread\": 0,\n",
      "    \"organizations\": [],\n",
      "    \"persons\": [],\n",
      "    \"published\": \"2017-02-02T02:00:00.000+02:00\",\n",
      "    \"text\": \"File photo of Sanjay Dutt at a show \\nShekhar Suman is ready to sing live for the first time tomorrow, with tracks of Kishore Kumar, Mohammed Rafi, Mukesh and Manna Dey on his to-belt-out list. While a host of playback singers and son Adhyayan will take the stage as guest performers, the audience will also see Sanjay Dutt putting his vocal cords to test.\\n\\nShekhar Suman \\n\\nSays a source close to the organisers, \\\"The two go back a long way. Shekhar played Sanjay's brother in Insaaf Apne Lahoo Se (1994), and they will reunite on screen in the latter's comeback film, Bhoomi, as best friends.\\nSo, Shekhar thought of getting Sanjay to jam together at his maiden live concert. Expect him to sing a couple of classics.\\\"\\nThe Friday event, which will have Chief Minister Devendra Fadnavis in attendance, will kick off Shekhar's multi-city concert, Dil Se, that will continue till May. He also plans to drop his second album next month.\\nAlso read: It's confirmed! Aditi Rao Hydari to play Sanjay Dutt's daughter in his comeback film 'Bhoomi'\",\n",
      "    \"thread\": {\n",
      "        \"country\": \"US\",\n",
      "        \"domain_rank\": 7615,\n",
      "        \"main_image\": \"http://images.mid-day.com/images/2017/feb/02-sanjay-shekhar-l.jpg\",\n",
      "        \"participants_count\": 1,\n",
      "        \"performance_score\": 3,\n",
      "        \"published\": \"2017-02-02T02:00:00.000+02:00\",\n",
      "        \"replies_count\": 0,\n",
      "        \"section_title\": \"entertainment\",\n",
      "        \"site\": \"mid-day.com\",\n",
      "        \"site_full\": \"www.mid-day.com\",\n",
      "        \"site_section\": \"http://www.mid-day.com/Resources/midday/rss/entertainment.xml\",\n",
      "        \"site_type\": \"news\",\n",
      "        \"social\": {\n",
      "            \"facebook\": {\n",
      "                \"comments\": 0,\n",
      "                \"likes\": 385,\n",
      "                \"shares\": 385\n",
      "            },\n",
      "            \"gplus\": {\n",
      "                \"shares\": 0\n",
      "            },\n",
      "            \"linkedin\": {\n",
      "                \"shares\": 0\n",
      "            },\n",
      "            \"pinterest\": {\n",
      "                \"shares\": 0\n",
      "            },\n",
      "            \"stumbledupon\": {\n",
      "                \"shares\": 0\n",
      "            },\n",
      "            \"vk\": {\n",
      "                \"shares\": 0\n",
      "            }\n",
      "        },\n",
      "        \"spam_score\": 0.0,\n",
      "        \"title\": \"Sanjay Dutt to jam with old buddy Shekhar Suman at a concert in Mumbai on February 3\",\n",
      "        \"title_full\": \"Sanjay Dutt to jam with old buddy Shekhar Suman at a concert in Mumbai on February 3 - Entertainment\",\n",
      "        \"url\": \"http://www.mid-day.com/articles/sanjay-dutt-shekhar-suman-mumbai-concert-february-3-comeback-film-bhoomi-bollywood-news/17958196\",\n",
      "        \"uuid\": \"73e816401238917709228217bb654930c7dc342c\"\n",
      "    },\n",
      "    \"title\": \"Sanjay Dutt to jam with old buddy Shekhar Suman at a concert in Mumbai on February 3\",\n",
      "    \"url\": \"http://www.mid-day.com/articles/sanjay-dutt-shekhar-suman-mumbai-concert-february-3-comeback-film-bhoomi-bollywood-news/17958196\",\n",
      "    \"uuid\": \"73e816401238917709228217bb654930c7dc342c\"\n",
      "}\n"
     ]
    }
   ],
   "source": [
    "# Checking attributes available\n",
    "os.getcwd()\n",
    "with open(\"news_0000028.json\",\"r\") as read_file:\n",
    "    data = json.load(read_file)\n",
    "    spam_score = data['thread']['spam_score']\n",
    "    performance_score = data['thread']['performance_score']\n",
    "    domain_rank = data['thread']['domain_rank']\n",
    "    category = data['thread']['section_title']\n",
    "    title = data['title']\n",
    "    site_type = data['thread']['site_type']\n",
    "#print(spam_score,performance_score,domain_rank,category)\n",
    "print(json.dumps(data,sort_keys=True, indent=4))"
   ]
  },
  {
   "cell_type": "code",
   "execution_count": 8,
   "metadata": {},
   "outputs": [],
   "source": [
    "# Making Dataset\n",
    "\n",
    "def create_data(file):\n",
    "        with open(file,\"r\") as read_file:\n",
    "            data = json.load(read_file)\n",
    "            # Content Attributes\n",
    "            rate_of_unique_words_content,rate_of_non_stop_words_content,rate_of_unique_non_stop_words_content = rate_of_words(nlp(data['text']))\n",
    "            positive_content, negative_content = text_sentiment(data['text'])\n",
    "            polarity_content, subjectivity_content = polarity_subjectivity(data['text'])\n",
    "            # Title Attributes\n",
    "            rate_of_unique_words_title,rate_of_non_stop_words_title,rate_of_unique_non_stop_words_title = rate_of_words(nlp(data['title']))\n",
    "            positive_title, negative_title = text_sentiment(data['title'])\n",
    "            polarity_title, subjectivity_title = polarity_subjectivity(data['title'])\n",
    "            # Other Attributes\n",
    "            site_type = data['thread']['site_type']\n",
    "            shares = data['thread']['social']['facebook']['shares']\n",
    "            likes = data['thread']['social']['facebook']['likes']\n",
    "            return ({'rate_of_unique_words_content': rate_of_unique_words_content,\n",
    "                              'rate_of_non_stop_words_content': rate_of_non_stop_words_content,\n",
    "                              'rate_of_unique_non_stop_words_content': rate_of_unique_non_stop_words_content,\n",
    "                              'positive_content': positive_content,\n",
    "                              'negative_content': negative_content,\n",
    "                              'polarity_content': polarity_content,\n",
    "                              'subjectivity_content': subjectivity_content,\n",
    "                              'rate_of_unique_words_title': rate_of_unique_words_title,\n",
    "                              'rate_of_non_stop_words_title': rate_of_non_stop_words_title,\n",
    "                              'rate_of_unique_non_stop_words_title': rate_of_unique_non_stop_words_title,\n",
    "                              'positive_title': positive_title,\n",
    "                              'negative_title': negative_title,\n",
    "                              'polarity_title': polarity_title,\n",
    "                              'subjectivity_title': subjectivity_title,\n",
    "                              'site_type':site_type,\n",
    "                    'shares':shares,\n",
    "                    'likes':likes})"
   ]
  },
  {
   "cell_type": "code",
   "execution_count": null,
   "metadata": {},
   "outputs": [],
   "source": [
    "# Using parallel processing to complete the dataset\n",
    "\n",
    "import math\n",
    "import multiprocessing\n",
    "from joblib import Parallel, delayed\n",
    "import progressbar\n",
    "from tqdm import tqdm\n",
    "\n",
    "\n",
    "# set up parameters required by the task\n",
    "data_items1 = os.listdir()\n",
    "data_items1.sort()\n",
    "inputs = tqdm(data_items1)\n",
    "    \n",
    "num_cores = multiprocessing.cpu_count()\n",
    "if __name__ == \"__main__\":\n",
    "    data_frame = Parallel(n_jobs=num_cores)(delayed(create_data)(data_items1[i]) for i in range(10000))"
   ]
  },
  {
   "cell_type": "code",
   "execution_count": null,
   "metadata": {},
   "outputs": [],
   "source": [
    "data_frame"
   ]
  },
  {
   "cell_type": "code",
   "execution_count": null,
   "metadata": {},
   "outputs": [],
   "source": [
    "# Write created dataset to csv file\n",
    "df = pd.DataFrame(data_frame)\n",
    "df.to_csv(r'Data.csv',index = False, header = True)"
   ]
  },
  {
   "cell_type": "code",
   "execution_count": 6,
   "metadata": {},
   "outputs": [],
   "source": [
    "#########################################\n",
    "### Preprocessing Data for the Model ###\n",
    "#########################################"
   ]
  },
  {
   "cell_type": "code",
   "execution_count": 12,
   "metadata": {},
   "outputs": [],
   "source": [
    "df = pd.read_csv('Data_Final.csv')\n",
    "df = df.dropna(axis=0)"
   ]
  },
  {
   "cell_type": "code",
   "execution_count": 13,
   "metadata": {},
   "outputs": [
    {
     "name": "stderr",
     "output_type": "stream",
     "text": [
      "/Users/ram/opt/anaconda3/lib/python3.7/site-packages/pandas/core/ops/array_ops.py:253: FutureWarning: elementwise comparison failed; returning scalar instead, but in the future will perform elementwise comparison\n",
      "  res_values = method(rvalues)\n"
     ]
    }
   ],
   "source": [
    "# Drop NaN values and convert to float\n",
    "df1 = df[df.rate_of_unique_words_content != 'NaN']\n",
    "df1 = df1[df1.rate_of_non_stop_words_content != 'NaN']\n",
    "df1 = df1[df1.rate_of_unique_non_stop_words_content != 'NaN']\n",
    "df1.rate_of_unique_words_content = df1.rate_of_unique_words_content.apply(float)\n",
    "df1.rate_of_non_stop_words_content = df1.rate_of_non_stop_words_content.apply(float)\n",
    "df1.rate_of_unique_non_stop_words_content = df1.rate_of_unique_non_stop_words_content.apply(float)"
   ]
  },
  {
   "cell_type": "code",
   "execution_count": 14,
   "metadata": {},
   "outputs": [
    {
     "name": "stdout",
     "output_type": "stream",
     "text": [
      "<class 'pandas.core.frame.DataFrame'>\n",
      "Int64Index: 9975 entries, 0 to 9999\n",
      "Data columns (total 17 columns):\n",
      " #   Column                                 Non-Null Count  Dtype  \n",
      "---  ------                                 --------------  -----  \n",
      " 0   rate_of_unique_words_content           9975 non-null   float64\n",
      " 1   rate_of_non_stop_words_content         9975 non-null   float64\n",
      " 2   rate_of_unique_non_stop_words_content  9975 non-null   float64\n",
      " 3   positive_content                       9975 non-null   float64\n",
      " 4   negative_content                       9975 non-null   float64\n",
      " 5   polarity_content                       9975 non-null   float64\n",
      " 6   subjectivity_content                   9975 non-null   float64\n",
      " 7   rate_of_unique_words_title             9975 non-null   float64\n",
      " 8   rate_of_non_stop_words_title           9975 non-null   float64\n",
      " 9   rate_of_unique_non_stop_words_title    9975 non-null   float64\n",
      " 10  positive_title                         9975 non-null   float64\n",
      " 11  negative_title                         9975 non-null   float64\n",
      " 12  polarity_title                         9975 non-null   float64\n",
      " 13  subjectivity_title                     9975 non-null   float64\n",
      " 14  site_type                              9975 non-null   object \n",
      " 15  shares                                 9975 non-null   int64  \n",
      " 16  likes                                  9975 non-null   int64  \n",
      "dtypes: float64(14), int64(2), object(1)\n",
      "memory usage: 1.4+ MB\n"
     ]
    }
   ],
   "source": [
    "df1 = df\n",
    "df1.info()"
   ]
  },
  {
   "cell_type": "code",
   "execution_count": 15,
   "metadata": {},
   "outputs": [
    {
     "data": {
      "text/html": [
       "<div>\n",
       "<style scoped>\n",
       "    .dataframe tbody tr th:only-of-type {\n",
       "        vertical-align: middle;\n",
       "    }\n",
       "\n",
       "    .dataframe tbody tr th {\n",
       "        vertical-align: top;\n",
       "    }\n",
       "\n",
       "    .dataframe thead th {\n",
       "        text-align: right;\n",
       "    }\n",
       "</style>\n",
       "<table border=\"1\" class=\"dataframe\">\n",
       "  <thead>\n",
       "    <tr style=\"text-align: right;\">\n",
       "      <th></th>\n",
       "      <th>rate_of_unique_words_content</th>\n",
       "      <th>rate_of_non_stop_words_content</th>\n",
       "      <th>rate_of_unique_non_stop_words_content</th>\n",
       "      <th>positive_content</th>\n",
       "      <th>negative_content</th>\n",
       "      <th>polarity_content</th>\n",
       "      <th>subjectivity_content</th>\n",
       "      <th>rate_of_unique_words_title</th>\n",
       "      <th>rate_of_non_stop_words_title</th>\n",
       "      <th>rate_of_unique_non_stop_words_title</th>\n",
       "      <th>positive_title</th>\n",
       "      <th>negative_title</th>\n",
       "      <th>polarity_title</th>\n",
       "      <th>subjectivity_title</th>\n",
       "      <th>shares</th>\n",
       "      <th>likes</th>\n",
       "    </tr>\n",
       "  </thead>\n",
       "  <tbody>\n",
       "    <tr>\n",
       "      <th>count</th>\n",
       "      <td>9975.000000</td>\n",
       "      <td>9975.000000</td>\n",
       "      <td>9975.000000</td>\n",
       "      <td>9975.000000</td>\n",
       "      <td>9.975000e+03</td>\n",
       "      <td>9975.000000</td>\n",
       "      <td>9975.000000</td>\n",
       "      <td>9975.000000</td>\n",
       "      <td>9975.000000</td>\n",
       "      <td>9975.000000</td>\n",
       "      <td>9975.000000</td>\n",
       "      <td>9975.000000</td>\n",
       "      <td>9975.000000</td>\n",
       "      <td>9975.000000</td>\n",
       "      <td>9975.000000</td>\n",
       "      <td>9975.000000</td>\n",
       "    </tr>\n",
       "    <tr>\n",
       "      <th>mean</th>\n",
       "      <td>0.392684</td>\n",
       "      <td>0.583388</td>\n",
       "      <td>0.800068</td>\n",
       "      <td>0.950438</td>\n",
       "      <td>4.956233e-02</td>\n",
       "      <td>0.091155</td>\n",
       "      <td>0.415520</td>\n",
       "      <td>0.966843</td>\n",
       "      <td>0.754845</td>\n",
       "      <td>0.761666</td>\n",
       "      <td>0.639674</td>\n",
       "      <td>0.360326</td>\n",
       "      <td>0.039651</td>\n",
       "      <td>0.236356</td>\n",
       "      <td>347.248622</td>\n",
       "      <td>351.285614</td>\n",
       "    </tr>\n",
       "    <tr>\n",
       "      <th>std</th>\n",
       "      <td>0.151921</td>\n",
       "      <td>0.086918</td>\n",
       "      <td>0.072936</td>\n",
       "      <td>0.176662</td>\n",
       "      <td>1.766624e-01</td>\n",
       "      <td>0.117596</td>\n",
       "      <td>0.122831</td>\n",
       "      <td>0.077288</td>\n",
       "      <td>0.136818</td>\n",
       "      <td>0.135229</td>\n",
       "      <td>0.268347</td>\n",
       "      <td>0.268347</td>\n",
       "      <td>0.240058</td>\n",
       "      <td>0.308526</td>\n",
       "      <td>233.528405</td>\n",
       "      <td>443.320420</td>\n",
       "    </tr>\n",
       "    <tr>\n",
       "      <th>min</th>\n",
       "      <td>0.003300</td>\n",
       "      <td>0.304348</td>\n",
       "      <td>0.200000</td>\n",
       "      <td>0.000030</td>\n",
       "      <td>5.961033e-256</td>\n",
       "      <td>-1.000000</td>\n",
       "      <td>0.000000</td>\n",
       "      <td>0.166667</td>\n",
       "      <td>0.111111</td>\n",
       "      <td>0.111111</td>\n",
       "      <td>0.003238</td>\n",
       "      <td>0.000210</td>\n",
       "      <td>-1.000000</td>\n",
       "      <td>0.000000</td>\n",
       "      <td>0.000000</td>\n",
       "      <td>101.000000</td>\n",
       "    </tr>\n",
       "    <tr>\n",
       "      <th>25%</th>\n",
       "      <td>0.303680</td>\n",
       "      <td>0.532384</td>\n",
       "      <td>0.757962</td>\n",
       "      <td>0.999772</td>\n",
       "      <td>3.726485e-16</td>\n",
       "      <td>0.028792</td>\n",
       "      <td>0.358414</td>\n",
       "      <td>1.000000</td>\n",
       "      <td>0.666667</td>\n",
       "      <td>0.666667</td>\n",
       "      <td>0.453832</td>\n",
       "      <td>0.121345</td>\n",
       "      <td>0.000000</td>\n",
       "      <td>0.000000</td>\n",
       "      <td>157.000000</td>\n",
       "      <td>157.000000</td>\n",
       "    </tr>\n",
       "    <tr>\n",
       "      <th>50%</th>\n",
       "      <td>0.363148</td>\n",
       "      <td>0.571545</td>\n",
       "      <td>0.806897</td>\n",
       "      <td>1.000000</td>\n",
       "      <td>3.657715e-09</td>\n",
       "      <td>0.091342</td>\n",
       "      <td>0.423413</td>\n",
       "      <td>1.000000</td>\n",
       "      <td>0.764706</td>\n",
       "      <td>0.769231</td>\n",
       "      <td>0.677647</td>\n",
       "      <td>0.322353</td>\n",
       "      <td>0.000000</td>\n",
       "      <td>0.000000</td>\n",
       "      <td>266.000000</td>\n",
       "      <td>266.000000</td>\n",
       "    </tr>\n",
       "    <tr>\n",
       "      <th>75%</th>\n",
       "      <td>0.442015</td>\n",
       "      <td>0.613204</td>\n",
       "      <td>0.848028</td>\n",
       "      <td>1.000000</td>\n",
       "      <td>2.277043e-04</td>\n",
       "      <td>0.151254</td>\n",
       "      <td>0.483098</td>\n",
       "      <td>1.000000</td>\n",
       "      <td>0.857143</td>\n",
       "      <td>0.857143</td>\n",
       "      <td>0.878655</td>\n",
       "      <td>0.546168</td>\n",
       "      <td>0.068182</td>\n",
       "      <td>0.454545</td>\n",
       "      <td>481.000000</td>\n",
       "      <td>481.000000</td>\n",
       "    </tr>\n",
       "    <tr>\n",
       "      <th>max</th>\n",
       "      <td>1.000000</td>\n",
       "      <td>1.000000</td>\n",
       "      <td>1.000000</td>\n",
       "      <td>1.000000</td>\n",
       "      <td>9.999700e-01</td>\n",
       "      <td>0.900000</td>\n",
       "      <td>1.000000</td>\n",
       "      <td>1.000000</td>\n",
       "      <td>1.000000</td>\n",
       "      <td>1.000000</td>\n",
       "      <td>0.999790</td>\n",
       "      <td>0.996762</td>\n",
       "      <td>1.000000</td>\n",
       "      <td>1.000000</td>\n",
       "      <td>999.000000</td>\n",
       "      <td>37973.000000</td>\n",
       "    </tr>\n",
       "  </tbody>\n",
       "</table>\n",
       "</div>"
      ],
      "text/plain": [
       "       rate_of_unique_words_content  rate_of_non_stop_words_content  \\\n",
       "count                   9975.000000                     9975.000000   \n",
       "mean                       0.392684                        0.583388   \n",
       "std                        0.151921                        0.086918   \n",
       "min                        0.003300                        0.304348   \n",
       "25%                        0.303680                        0.532384   \n",
       "50%                        0.363148                        0.571545   \n",
       "75%                        0.442015                        0.613204   \n",
       "max                        1.000000                        1.000000   \n",
       "\n",
       "       rate_of_unique_non_stop_words_content  positive_content  \\\n",
       "count                            9975.000000       9975.000000   \n",
       "mean                                0.800068          0.950438   \n",
       "std                                 0.072936          0.176662   \n",
       "min                                 0.200000          0.000030   \n",
       "25%                                 0.757962          0.999772   \n",
       "50%                                 0.806897          1.000000   \n",
       "75%                                 0.848028          1.000000   \n",
       "max                                 1.000000          1.000000   \n",
       "\n",
       "       negative_content  polarity_content  subjectivity_content  \\\n",
       "count      9.975000e+03       9975.000000           9975.000000   \n",
       "mean       4.956233e-02          0.091155              0.415520   \n",
       "std        1.766624e-01          0.117596              0.122831   \n",
       "min       5.961033e-256         -1.000000              0.000000   \n",
       "25%        3.726485e-16          0.028792              0.358414   \n",
       "50%        3.657715e-09          0.091342              0.423413   \n",
       "75%        2.277043e-04          0.151254              0.483098   \n",
       "max        9.999700e-01          0.900000              1.000000   \n",
       "\n",
       "       rate_of_unique_words_title  rate_of_non_stop_words_title  \\\n",
       "count                 9975.000000                   9975.000000   \n",
       "mean                     0.966843                      0.754845   \n",
       "std                      0.077288                      0.136818   \n",
       "min                      0.166667                      0.111111   \n",
       "25%                      1.000000                      0.666667   \n",
       "50%                      1.000000                      0.764706   \n",
       "75%                      1.000000                      0.857143   \n",
       "max                      1.000000                      1.000000   \n",
       "\n",
       "       rate_of_unique_non_stop_words_title  positive_title  negative_title  \\\n",
       "count                          9975.000000     9975.000000     9975.000000   \n",
       "mean                              0.761666        0.639674        0.360326   \n",
       "std                               0.135229        0.268347        0.268347   \n",
       "min                               0.111111        0.003238        0.000210   \n",
       "25%                               0.666667        0.453832        0.121345   \n",
       "50%                               0.769231        0.677647        0.322353   \n",
       "75%                               0.857143        0.878655        0.546168   \n",
       "max                               1.000000        0.999790        0.996762   \n",
       "\n",
       "       polarity_title  subjectivity_title       shares         likes  \n",
       "count     9975.000000         9975.000000  9975.000000   9975.000000  \n",
       "mean         0.039651            0.236356   347.248622    351.285614  \n",
       "std          0.240058            0.308526   233.528405    443.320420  \n",
       "min         -1.000000            0.000000     0.000000    101.000000  \n",
       "25%          0.000000            0.000000   157.000000    157.000000  \n",
       "50%          0.000000            0.000000   266.000000    266.000000  \n",
       "75%          0.068182            0.454545   481.000000    481.000000  \n",
       "max          1.000000            1.000000   999.000000  37973.000000  "
      ]
     },
     "execution_count": 15,
     "metadata": {},
     "output_type": "execute_result"
    }
   ],
   "source": [
    "df1.describe()"
   ]
  },
  {
   "cell_type": "code",
   "execution_count": 16,
   "metadata": {},
   "outputs": [
    {
     "name": "stderr",
     "output_type": "stream",
     "text": [
      "/Users/ram/opt/anaconda3/lib/python3.7/site-packages/scipy/stats/stats.py:1713: FutureWarning: Using a non-tuple sequence for multidimensional indexing is deprecated; use `arr[tuple(seq)]` instead of `arr[seq]`. In the future this will be interpreted as an array index, `arr[np.array(seq)]`, which will result either in an error or a different result.\n",
      "  return np.add.reduce(sorted[indexer] * weights, axis=axis) / sumval\n"
     ]
    },
    {
     "data": {
      "text/plain": [
       "<matplotlib.axes._subplots.AxesSubplot at 0x1a1ebccd90>"
      ]
     },
     "execution_count": 16,
     "metadata": {},
     "output_type": "execute_result"
    },
    {
     "data": {
      "image/png": "[encoded data removed]",
      "text/plain": [
       "<Figure size 1080x720 with 1 Axes>"
      ]
     },
     "metadata": {
      "needs_background": "light"
     },
     "output_type": "display_data"
    }
   ],
   "source": [
    "plt.figure(figsize=(15,10))\n",
    "plt.tight_layout()\n",
    "plt.title('Avg Shares')\n",
    "sns.distplot(df1['shares'])"
   ]
  },
  {
   "cell_type": "code",
   "execution_count": 31,
   "metadata": {},
   "outputs": [],
   "source": [
    "# Getting dependent and Independent data from the data\n",
    "X = df1.iloc[:,[0,1,2,3,4,5,6,7,8,9,10,11,12,13]].values\n",
    "y = df1.iloc[:,15].values\n",
    "# Consider taking it as viral is shares are more than 350\n",
    "y_final = (y / 1000)"
   ]
  },
  {
   "cell_type": "code",
   "execution_count": 32,
   "metadata": {},
   "outputs": [],
   "source": [
    "#########################################\n",
    "########## Preparing the Model ##########\n",
    "#########################################"
   ]
  },
  {
   "cell_type": "code",
   "execution_count": 33,
   "metadata": {},
   "outputs": [],
   "source": [
    "from sklearn.model_selection import train_test_split\n",
    "# Split into training and test datasets\n",
    "X_train, X_test, y_train, y_test = train_test_split(X,y_final,test_size=0.3, random_state=42)"
   ]
  },
  {
   "cell_type": "code",
   "execution_count": 34,
   "metadata": {},
   "outputs": [
    {
     "data": {
      "text/plain": [
       "array([[0.922],\n",
       "       [0.237],\n",
       "       [0.325],\n",
       "       ...,\n",
       "       [0.314],\n",
       "       [0.978],\n",
       "       [0.151]])"
      ]
     },
     "execution_count": 34,
     "metadata": {},
     "output_type": "execute_result"
    }
   ],
   "source": [
    "y_test.reshape(-1, 1)"
   ]
  },
  {
   "cell_type": "code",
   "execution_count": 35,
   "metadata": {},
   "outputs": [
    {
     "data": {
      "text/plain": [
       "array([3.66771160e-01, 5.26645768e-01, 7.52136752e-01, 1.00000000e+00,\n",
       "       1.17516047e-13, 1.65438596e-01, 5.51228070e-01, 1.00000000e+00,\n",
       "       8.00000000e-01, 8.00000000e-01, 9.94642111e-01, 5.35788925e-03,\n",
       "       1.60000000e-01, 5.40000000e-01])"
      ]
     },
     "execution_count": 35,
     "metadata": {},
     "output_type": "execute_result"
    }
   ],
   "source": [
    "X_train[1]"
   ]
  },
  {
   "cell_type": "code",
   "execution_count": 36,
   "metadata": {},
   "outputs": [],
   "source": [
    "def accuracy_score(true,pred):\n",
    "    return len(np.arange(len(true))[true==pred])/len(true)"
   ]
  },
  {
   "cell_type": "code",
   "execution_count": 37,
   "metadata": {},
   "outputs": [
    {
     "data": {
      "image/png": "[encoded data removed]",
      "text/plain": [
       "<Figure size 1152x720 with 1 Axes>"
      ]
     },
     "metadata": {
      "needs_background": "light"
     },
     "output_type": "display_data"
    },
    {
     "name": "stdout",
     "output_type": "stream",
     "text": [
      "Accuracy Score:  0.7557634480454394\n"
     ]
    }
   ],
   "source": [
    "# Create models\n",
    "from sklearn.linear_model import LinearRegression\n",
    "from sklearn import metrics\n",
    "# Linear Regression\n",
    "linear_regressor_model =  LinearRegression()\n",
    "linear_regressor_model.fit(X_train,y_train.round())\n",
    "y_pred_linear = linear_regressor_model.predict(X_test)\n",
    "# Bar Graph\n",
    "linear_regression_predicted = pd.DataFrame({'Actual': y_test, 'Predicted': y_pred_linear})\n",
    "linear_regression_predicted.head(75).plot(kind='bar',figsize=(16,10))\n",
    "plt.grid(which='major', linestyle='-', linewidth='0.5', color='green')\n",
    "plt.grid(which='minor', linestyle=':', linewidth='0.5', color='black')\n",
    "plt.show()\n",
    "print('Accuracy Score: ',accuracy_score(y_test.round(),y_pred_linear.round()))"
   ]
  },
  {
   "cell_type": "code",
   "execution_count": 38,
   "metadata": {},
   "outputs": [
    {
     "data": {
      "image/png": "[encoded data removed]",
      "text/plain": [
       "<Figure size 432x288 with 1 Axes>"
      ]
     },
     "metadata": {
      "needs_background": "light"
     },
     "output_type": "display_data"
    },
    {
     "data": {
      "image/png": "[encoded data removed]",
      "text/plain": [
       "<Figure size 432x288 with 1 Axes>"
      ]
     },
     "metadata": {
      "needs_background": "light"
     },
     "output_type": "display_data"
    },
    {
     "name": "stdout",
     "output_type": "stream",
     "text": [
      "Cluster Centers:  [[ 0.38725798  0.58019572  0.80142155  0.98096822  0.01903178  0.08370637\n",
      "   0.39924488  0.96733761  0.76632238  0.77368064  0.82263305  0.17736695\n",
      "  -0.01079149  0.06513518]\n",
      " [ 0.40346117  0.59547157  0.80058943  0.89696001  0.10303999  0.0794496\n",
      "   0.40397823  0.9681332   0.7545029   0.76062883  0.33122792  0.66877208\n",
      "  -0.00978706  0.15938015]\n",
      " [ 0.38789863  0.57265786  0.79683972  0.96748451  0.03251549  0.12110923\n",
      "   0.46162819  0.96414765  0.73401802  0.74079835  0.72525533  0.27474467\n",
      "   0.20139252  0.66017476]]\n",
      "Accuracy Score:  0.41092731829573936\n"
     ]
    }
   ],
   "source": [
    "# K-Means\n",
    "from sklearn.cluster import KMeans\n",
    "wcss=[]\n",
    "for i in range(1,11): \n",
    "    kmeans = KMeans(n_clusters=i, init ='k-means++', max_iter=300,  n_init=10,random_state=0 )\n",
    "    kmeans.fit(X)\n",
    "    wcss.append(kmeans.inertia_)\n",
    "# Elbow graph\n",
    "plt.plot(range(1,11),wcss)\n",
    "plt.title('The Elbow Method Graph')\n",
    "plt.xlabel('Number of clusters')\n",
    "plt.ylabel('WCSS')\n",
    "plt.show()\n",
    "# Clusters based on graph\n",
    "kmeans = KMeans(n_clusters=3, init ='k-means++', max_iter=300, n_init=10,random_state=0 )\n",
    "y_kmeans = kmeans.fit_predict(X)\n",
    "plt.scatter(X[y_kmeans==0, 0], X[y_kmeans==0, 1], s=100, c='red', label ='Cluster 1')\n",
    "plt.scatter(X[y_kmeans==1, 0], X[y_kmeans==1, 1], s=100, c='blue', label ='Cluster 2')\n",
    "plt.scatter(X[y_kmeans==2, 0], X[y_kmeans==2, 1], s=100, c='green', label ='Cluster 3')\n",
    "#Plot the centroid, we're going to use the cluster centres  attribute that returns here the coordinates of the centroid.\n",
    "plt.scatter(kmeans.cluster_centers_[:, 0], kmeans.cluster_centers_[:, 1], s=300, c='yellow', label = 'Centroids')\n",
    "plt.title('Clusters of likes')\n",
    "plt.show()\n",
    "print('Cluster Centers: ', kmeans.cluster_centers_)\n",
    "print('Accuracy Score: ',accuracy_score(y_final.round(),y_kmeans.round()))"
   ]
  },
  {
   "cell_type": "code",
   "execution_count": 39,
   "metadata": {},
   "outputs": [
    {
     "data": {
      "text/plain": [
       "0.011975227280598306"
      ]
     },
     "execution_count": 39,
     "metadata": {},
     "output_type": "execute_result"
    }
   ],
   "source": [
    "# XGBoost \n",
    "from xgboost import XGBClassifier\n",
    "xgb_classifier = XGBClassifier()\n",
    "xgb_classifier.fit(X_train, y_train.round())\n",
    "\n",
    "# Predicting the Test set results\n",
    "y_xgb_pred = xgb_classifier.predict(X_test)\n",
    "\n",
    "# Making the Confusion Matrix\n",
    "from sklearn.metrics import confusion_matrix\n",
    "cm = confusion_matrix(y_test.round(), y_xgb_pred)\n",
    "\n",
    "# Applying k-Fold Cross Validation\n",
    "from sklearn.model_selection import cross_val_score\n",
    "accuracies = cross_val_score(estimator = xgb_classifier, X = X_train, y = y_train.round(), cv = 10)\n",
    "accuracies.mean()\n",
    "accuracies.std()"
   ]
  },
  {
   "cell_type": "code",
   "execution_count": 41,
   "metadata": {},
   "outputs": [],
   "source": [
    "# Saving the best performing model which is Linear Regression\n",
    "import pickle\n",
    "filename = 'final_model.sav'\n",
    "pickle.dump(linear_regressor_model, open(filename, 'wb'))"
   ]
  },
  {
   "cell_type": "code",
   "execution_count": null,
   "metadata": {},
   "outputs": [],
   "source": []
  }
 ],
 "metadata": {
  "kernelspec": {
   "display_name": "Python 3",
   "language": "python",
   "name": "python3"
  },
  "language_info": {
   "codemirror_mode": {
    "name": "ipython",
    "version": 3
   },
   "file_extension": ".py",
   "mimetype": "text/x-python",
   "name": "python",
   "nbconvert_exporter": "python",
   "pygments_lexer": "ipython3",
   "version": "3.7.7"
  }
 },
 "nbformat": 4,
 "nbformat_minor": 4
}
